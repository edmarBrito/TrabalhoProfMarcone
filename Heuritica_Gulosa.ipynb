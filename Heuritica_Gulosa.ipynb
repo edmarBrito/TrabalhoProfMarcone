{
  "nbformat": 4,
  "nbformat_minor": 0,
  "metadata": {
    "colab": {
      "provenance": []
    },
    "kernelspec": {
      "name": "python3",
      "display_name": "Python 3"
    },
    "language_info": {
      "name": "python"
    }
  },
  "cells": [
    {
      "cell_type": "markdown",
      "source": [
        "# Implementação via Heurística Gulosa"
      ],
      "metadata": {
        "id": "FZnxlc12mnRQ"
      }
    },
    {
      "cell_type": "code",
      "source": [],
      "metadata": {
        "id": "q4UDuYs8zsx9"
      },
      "execution_count": null,
      "outputs": []
    },
    {
      "cell_type": "code",
      "source": [
        "itens = [\n",
        "    {'id': 1, 'peso': 6},\n",
        "    {'id': 2, 'peso': 12},\n",
        "    {'id': 3, 'peso': 17},\n",
        "    {'id': 4, 'peso': 8},\n",
        "    {'id': 5, 'peso': 5},\n",
        "    {'id': 6, 'peso': 20},\n",
        "    {'id': 7, 'peso': 8},\n",
        "    {'id': 8, 'peso': 15},\n",
        "    {'id': 9, 'peso': 5},\n",
        "    {'id': 10, 'peso': 18},\n",
        "    {'id': 11, 'peso': 7},\n",
        "    {'id': 12, 'peso': 10},\n",
        "    {'id': 13, 'peso': 15},\n",
        "    {'id': 14, 'peso': 19},\n",
        "    {'id': 15, 'peso': 6}\n",
        "]\n",
        "\n"
      ],
      "metadata": {
        "id": "zhALyAR7mzJb"
      },
      "execution_count": null,
      "outputs": []
    },
    {
      "cell_type": "code",
      "source": [
        "conteineres = [\n",
        "    {'id': 1, 'capacidade': 90},\n",
        "    {'id': 2, 'capacidade': 100},\n",
        "    {'id': 3, 'capacidade': 150},\n",
        "    {'id': 4, 'capacidade': 100},\n",
        "    {'id': 5, 'capacidade': 70}\n",
        "] # Capacidades dos contêineres\n"
      ],
      "metadata": {
        "id": "kqp0o0tEqeXk"
      },
      "execution_count": null,
      "outputs": []
    },
    {
      "cell_type": "code",
      "source": [
        "alocacao = []"
      ],
      "metadata": {
        "id": "A0QkXoZdsDUQ"
      },
      "execution_count": null,
      "outputs": []
    },
    {
      "cell_type": "code",
      "source": [
        "itens.sort(key=lambda x: x['peso'], reverse=True)\n",
        "conteineres.sort(key=lambda x: x['capacidade'], reverse=True)"
      ],
      "metadata": {
        "id": "KXKql4NwCHPj"
      },
      "execution_count": null,
      "outputs": []
    },
    {
      "cell_type": "code",
      "source": [
        "for item in itens:\n",
        "    for conteiner in conteineres:\n",
        "        if conteiner['capacidade'] >= item['peso']:  # Verifica se o item cabe no contêiner\n",
        "            conteiner['capacidade'] -= item['peso']  # Atualiza a capacidade do contêiner\n",
        "            alocacao.append({'item': item['id'], 'conteiner': conteiner['id']})  # Adiciona a alocação\n",
        "            break  # Vai para o próximo item"
      ],
      "metadata": {
        "id": "j2CdxxYksVKd"
      },
      "execution_count": null,
      "outputs": []
    },
    {
      "cell_type": "code",
      "source": [
        "print(\"Solução Final (Item -> Contêiner):\")\n",
        "for aloc in alocacao:\n",
        "    print(f\"Item {aloc['item']} alocado ao Contêiner {aloc['conteiner']}\")"
      ],
      "metadata": {
        "colab": {
          "base_uri": "https://localhost:8080/"
        },
        "id": "uYd8myBRscoT",
        "outputId": "368c84fa-0f28-4a6d-8e83-00ad2d2c0c53"
      },
      "execution_count": null,
      "outputs": [
        {
          "output_type": "stream",
          "name": "stdout",
          "text": [
            "Solução Final (Item -> Contêiner):\n",
            "Item 6 alocado ao Contêiner 3\n",
            "Item 14 alocado ao Contêiner 3\n",
            "Item 10 alocado ao Contêiner 3\n",
            "Item 3 alocado ao Contêiner 3\n",
            "Item 8 alocado ao Contêiner 3\n",
            "Item 13 alocado ao Contêiner 3\n",
            "Item 2 alocado ao Contêiner 3\n",
            "Item 12 alocado ao Contêiner 3\n",
            "Item 4 alocado ao Contêiner 3\n",
            "Item 7 alocado ao Contêiner 3\n",
            "Item 11 alocado ao Contêiner 3\n",
            "Item 1 alocado ao Contêiner 2\n",
            "Item 15 alocado ao Contêiner 2\n",
            "Item 5 alocado ao Contêiner 2\n",
            "Item 9 alocado ao Contêiner 2\n"
          ]
        }
      ]
    }
  ]
}